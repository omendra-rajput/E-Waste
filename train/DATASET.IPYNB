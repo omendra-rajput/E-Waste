{
 "cells": [
  {
   "cell_type": "code",
   "execution_count": 6,
   "metadata": {},
   "outputs": [
    {
     "ename": "ModuleNotFoundError",
     "evalue": "No module named 'cv2'",
     "output_type": "error",
     "traceback": [
      "\u001b[31m---------------------------------------------------------------------------\u001b[39m",
      "\u001b[31mModuleNotFoundError\u001b[39m                       Traceback (most recent call last)",
      "\u001b[36mCell\u001b[39m\u001b[36m \u001b[39m\u001b[32mIn[6]\u001b[39m\u001b[32m, line 5\u001b[39m\n\u001b[32m      3\u001b[39m \u001b[38;5;28;01mimport\u001b[39;00m\u001b[38;5;250m \u001b[39m\u001b[34;01mnumpy\u001b[39;00m\u001b[38;5;250m \u001b[39m\u001b[38;5;28;01mas\u001b[39;00m\u001b[38;5;250m \u001b[39m\u001b[34;01mnp\u001b[39;00m\n\u001b[32m      4\u001b[39m \u001b[38;5;28;01mimport\u001b[39;00m\u001b[38;5;250m \u001b[39m\u001b[34;01mpandas\u001b[39;00m\u001b[38;5;250m \u001b[39m\u001b[38;5;28;01mas\u001b[39;00m\u001b[38;5;250m \u001b[39m\u001b[34;01mpd\u001b[39;00m\n\u001b[32m----> \u001b[39m\u001b[32m5\u001b[39m \u001b[38;5;28;01mimport\u001b[39;00m\u001b[38;5;250m \u001b[39m\u001b[34;01mcv2\u001b[39;00m\n\u001b[32m      6\u001b[39m \u001b[38;5;28;01mfrom\u001b[39;00m\u001b[38;5;250m \u001b[39m\u001b[34;01mkaggle\u001b[39;00m\u001b[34;01m.\u001b[39;00m\u001b[34;01mapi\u001b[39;00m\u001b[34;01m.\u001b[39;00m\u001b[34;01mkaggle_api_extended\u001b[39;00m\u001b[38;5;250m \u001b[39m\u001b[38;5;28;01mimport\u001b[39;00m KaggleApi\n\u001b[32m      8\u001b[39m \u001b[38;5;66;03m# Set up Kaggle API\u001b[39;00m\n",
      "\u001b[31mModuleNotFoundError\u001b[39m: No module named 'cv2'"
     ]
    }
   ],
   "source": [
    "import os\n",
    "import random\n",
    "import numpy as np\n",
    "import pandas as pd\n",
    "import cv2\n",
    "from kaggle.api.kaggle_api_extended import KaggleApi\n",
    "\n",
    "# Set up Kaggle API\n",
    "api = KaggleApi()\n",
    "api.authenticate()\n",
    "\n",
    "# Download and unzip dataset\n",
    "dataset_slug = 'akshat103/e-waste-image-dataset'\n",
    "download_path = 'e_waste_images'\n",
    "api.dataset_download_files(dataset_slug, path=download_path, unzip=True)\n",
    "\n",
    "# Define meta fields\n",
    "item_types = ['Laptop', 'Battery', 'Printer', 'Cable', 'Scanner', 'TV', 'Mobile']\n",
    "categories = ['Computers', 'Mobiles', 'Batteries', 'Printers', 'Monitors',\n",
    "              'TVs', 'Cables', 'Scanners', 'Servers', 'Others']\n",
    "conditions = ['Working', 'Dead']\n",
    "sectors = ['IT', 'Telecom', 'Retail', 'Healthcare', 'Education', 'Manufacturing']\n",
    "\n",
    "# Prepare data storage\n",
    "records = []\n",
    "image_dir = os.path.join(download_path, 'E-Waste-Image-Dataset')  # this might change based on dataset structure\n",
    "\n",
    "# Walk through folders and process images\n",
    "for root, dirs, files in os.walk(image_dir):\n",
    "    for file in files:\n",
    "        if file.lower().endswith(('.jpg', '.png', '.jpeg')):\n",
    "            try:\n",
    "                # Full path\n",
    "                img_path = os.path.join(root, file)\n",
    "\n",
    "                # Read and resize image to 32x32\n",
    "                img = cv2.imread(img_path)\n",
    "                img = cv2.resize(img, (32, 32))\n",
    "                img = img / 255.0  # Normalize\n",
    "\n",
    "                # Append record\n",
    "                records.append({\n",
    "                    \"Item_Type\": random.choice(item_types),\n",
    "                    \"Weight(kg)\": round(random.uniform(0.1, 20.0), 2),\n",
    "                    \"Condition\": random.choice(conditions),\n",
    "                    \"Sector\": random.choice(sectors),\n",
    "                    \"Category\": random.choice(categories),\n",
    "                    \"Image_Data\": img.tolist()\n",
    "                })\n",
    "\n",
    "            except Exception as e:\n",
    "                print(f\"Failed to process image {file}: {e}\")\n",
    "\n",
    "# Save dataset to CSV\n",
    "df = pd.DataFrame(records)\n",
    "df.to_csv(\"real_e_waste_dataset.csv\", index=False)\n",
    "print(f\"Dataset created successfully with {len(df)} entries → saved as 'real_e_waste_dataset.csv'\")"
   ]
  },
  {
   "cell_type": "code",
   "execution_count": 7,
   "metadata": {},
   "outputs": [],
   "source": [
    "!pip install opencv-python\n"
   ]
  },
  {
   "cell_type": "code",
   "execution_count": 11,
   "metadata": {},
   "outputs": [
    {
     "name": "stdout",
     "output_type": "stream",
     "text": [
      "CSV created: e_waste_dataset.csv\n"
     ]
    }
   ],
   "source": [
    "import os\n",
    "import pandas as pd\n",
    "\n",
    "# Change this to your actual dataset folder path\n",
    "dataset_folder = r\"E:\\E-Waste\\train\"\n",
    "\n",
    "\n",
    "data = []\n",
    "\n",
    "# Loop through each subfolder (category)\n",
    "for label in os.listdir(dataset_folder):\n",
    "    label_path = os.path.join(dataset_folder, label)\n",
    "    \n",
    "    # Ensure it's a folder\n",
    "    if os.path.isdir(label_path):\n",
    "        for file in os.listdir(label_path):\n",
    "            if file.lower().endswith(('.png', '.jpg', '.jpeg', '.bmp')):\n",
    "                full_path = os.path.join(label_path, file)\n",
    "                data.append({\n",
    "                    \"image_path\": full_path,\n",
    "                    \"label\": label\n",
    "                })\n",
    "\n",
    "# Create dataframe\n",
    "df = pd.DataFrame(data)\n",
    "\n",
    "# Save as CSV\n",
    "df.to_csv(\"e_waste_dataset.csv\", index=False)\n",
    "\n",
    "print(\"CSV created: e_waste_dataset.csv\")\n"
   ]
  },
  {
   "cell_type": "code",
   "execution_count": null,
   "metadata": {},
   "outputs": [],
   "source": []
  }
 ],
 "metadata": {
  "kernelspec": {
   "display_name": "Python 3",
   "language": "python",
   "name": "python3"
  },
  "language_info": {
   "codemirror_mode": {
    "name": "ipython",
    "version": 3
   },
   "file_extension": ".py",
   "mimetype": "text/x-python",
   "name": "python",
   "nbconvert_exporter": "python",
   "pygments_lexer": "ipython3",
   "version": "3.13.2"
  }
 },
 "nbformat": 4,
 "nbformat_minor": 2
}
